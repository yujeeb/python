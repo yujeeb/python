{
  "nbformat": 4,
  "nbformat_minor": 0,
  "metadata": {
    "colab": {
      "provenance": [],
      "authorship_tag": "ABX9TyOW2eUQsKyysUMBZzaOzNM9",
      "include_colab_link": true
    },
    "kernelspec": {
      "name": "python3",
      "display_name": "Python 3"
    },
    "language_info": {
      "name": "python"
    }
  },
  "cells": [
    {
      "cell_type": "markdown",
      "metadata": {
        "id": "view-in-github",
        "colab_type": "text"
      },
      "source": [
        "<a href=\"https://colab.research.google.com/github/yujeeb/python/blob/main/Mike_Dane_python_freecodecamp.ipynb\" target=\"_parent\"><img src=\"https://colab.research.google.com/assets/colab-badge.svg\" alt=\"Open In Colab\"/></a>"
      ]
    },
    {
      "cell_type": "markdown",
      "source": [
        "# Introduction"
      ],
      "metadata": {
        "id": "9OEp-NfINjWL"
      }
    },
    {
      "cell_type": "markdown",
      "source": [
        "# Installing Python and PyCharm\n"
      ],
      "metadata": {
        "id": "hSmzQ2MoNo9O"
      }
    },
    {
      "cell_type": "markdown",
      "source": [
        "# Setup & Hello World"
      ],
      "metadata": {
        "id": "o_WDq40mNqO5"
      }
    },
    {
      "cell_type": "markdown",
      "source": [
        "# Drawing a Shape"
      ],
      "metadata": {
        "id": "h2aSyFpgN1AK"
      }
    },
    {
      "cell_type": "markdown",
      "source": [
        "# Variables & Data Types"
      ],
      "metadata": {
        "id": "vkxeBFwgN3yN"
      }
    },
    {
      "cell_type": "markdown",
      "source": [
        "# Working with Strings"
      ],
      "metadata": {
        "id": "TWIWrjtyN6h2"
      }
    },
    {
      "cell_type": "markdown",
      "source": [
        "# Working with Numbers"
      ],
      "metadata": {
        "id": "amwHAr4rN-Hq"
      }
    },
    {
      "cell_type": "markdown",
      "source": [
        "# Getting Input From Users"
      ],
      "metadata": {
        "id": "ww0IJQ5JOBqj"
      }
    },
    {
      "cell_type": "markdown",
      "source": [
        "# Building a Basic Calculator"
      ],
      "metadata": {
        "id": "aBeX5WU7OGNe"
      }
    },
    {
      "cell_type": "markdown",
      "source": [
        "# Mad Libs Game"
      ],
      "metadata": {
        "id": "nR2RYPOMOKtC"
      }
    },
    {
      "cell_type": "markdown",
      "source": [
        "# Lists"
      ],
      "metadata": {
        "id": "d6ZNY9vcON1D"
      }
    },
    {
      "cell_type": "markdown",
      "source": [
        "# List Functions"
      ],
      "metadata": {
        "id": "lD6kF0cic2Sj"
      }
    },
    {
      "cell_type": "code",
      "execution_count": null,
      "metadata": {
        "id": "tqwdrV1ib58b",
        "colab": {
          "base_uri": "https://localhost:8080/"
        },
        "outputId": "e8f40c76-b413-4889-a1c1-ce02d953e3de"
      },
      "outputs": [
        {
          "output_type": "stream",
          "name": "stdout",
          "text": [
            "['Kevin', 'Karen', 'Jim', 'Oscar', 'Toby']\n"
          ]
        }
      ],
      "source": [
        "lucky_numbers = [4, 8, 15, 16, 23, 42]\n",
        "friends = [\"Kevin\", \"Karen\", \"Jim\", \"Oscar\", \"Toby\"]\n",
        "\n",
        "print(friends)"
      ]
    },
    {
      "cell_type": "code",
      "source": [
        "lucky_numbers = [4, 8, 15, 16, 23, 42]\n",
        "friends = [\"Kevin\", \"Karen\", \"Jim\", \"Oscar\", \"Toby\"]\n",
        "friends.extend(lucky_numbers)\n",
        "print(friends)"
      ],
      "metadata": {
        "colab": {
          "base_uri": "https://localhost:8080/"
        },
        "id": "W4-1bCWkdXKs",
        "outputId": "2c8375ef-30cb-4ff0-ea7e-34ca0b6b59e3"
      },
      "execution_count": null,
      "outputs": [
        {
          "output_type": "stream",
          "name": "stdout",
          "text": [
            "['Kevin', 'Karen', 'Jim', 'Oscar', 'Toby', 4, 8, 15, 16, 23, 42]\n"
          ]
        }
      ]
    },
    {
      "cell_type": "code",
      "source": [
        "lucky_numbers = [4, 8, 15, 16, 23, 42]\n",
        "friends = [\"Kevin\", \"Karen\", \"Jim\", \"Oscar\", \"Toby\"]\n",
        "friends.append(\"Creed\")\n",
        "print(friends)"
      ],
      "metadata": {
        "colab": {
          "base_uri": "https://localhost:8080/"
        },
        "id": "kJmkEfTtdlby",
        "outputId": "e72fd62f-6c83-4def-93c3-08581a5496ae"
      },
      "execution_count": null,
      "outputs": [
        {
          "output_type": "stream",
          "name": "stdout",
          "text": [
            "['Kevin', 'Karen', 'Jim', 'Oscar', 'Toby', 'Creed']\n"
          ]
        }
      ]
    },
    {
      "cell_type": "code",
      "source": [
        "lucky_numbers = [4, 8, 15, 16, 23, 42]\n",
        "friends = [\"Kevin\", \"Karen\", \"Jim\", \"Oscar\", \"Toby\"]\n",
        "friends.insert(1, \"Kelly\")\n",
        "print(friends)"
      ],
      "metadata": {
        "colab": {
          "base_uri": "https://localhost:8080/"
        },
        "id": "_0IDdWyGdtTN",
        "outputId": "326a1294-f520-4291-9c06-585cedddc93f"
      },
      "execution_count": null,
      "outputs": [
        {
          "output_type": "stream",
          "name": "stdout",
          "text": [
            "['Kevin', 'Kelly', 'Karen', 'Jim', 'Oscar', 'Toby']\n"
          ]
        }
      ]
    },
    {
      "cell_type": "code",
      "source": [
        "lucky_numbers = [4, 8, 15, 16, 23, 42]\n",
        "friends = [\"Kevin\", \"Karen\", \"Jim\", \"Oscar\", \"Toby\"]\n",
        "friends.remove(\"Jim\")\n",
        "print(friends)"
      ],
      "metadata": {
        "colab": {
          "base_uri": "https://localhost:8080/"
        },
        "id": "ErVLKQtvd3gn",
        "outputId": "b92316cf-6378-41dc-dce7-c92f10a43c32"
      },
      "execution_count": null,
      "outputs": [
        {
          "output_type": "stream",
          "name": "stdout",
          "text": [
            "['Kevin', 'Karen', 'Oscar', 'Toby']\n"
          ]
        }
      ]
    },
    {
      "cell_type": "code",
      "source": [
        "lucky_numbers = [4, 8, 15, 16, 23, 42]\n",
        "friends = [\"Kevin\", \"Karen\", \"Jim\", \"Oscar\", \"Toby\"]\n",
        "friends.clear()\n",
        "print(friends)"
      ],
      "metadata": {
        "colab": {
          "base_uri": "https://localhost:8080/"
        },
        "id": "Ku3ToQ60d_cK",
        "outputId": "2c57d465-842c-47de-ccb8-c8f31a4e342b"
      },
      "execution_count": null,
      "outputs": [
        {
          "output_type": "stream",
          "name": "stdout",
          "text": [
            "[]\n"
          ]
        }
      ]
    },
    {
      "cell_type": "code",
      "source": [
        "lucky_numbers = [4, 8, 15, 16, 23, 42]\n",
        "friends = [\"Kevin\", \"Karen\", \"Jim\", \"Oscar\", \"Toby\"]\n",
        "friends.pop()\n",
        "print(friends)"
      ],
      "metadata": {
        "colab": {
          "base_uri": "https://localhost:8080/"
        },
        "id": "aKkkAvP3eDD4",
        "outputId": "90166cb6-fed9-47e4-dee2-0895e8d12f73"
      },
      "execution_count": null,
      "outputs": [
        {
          "output_type": "stream",
          "name": "stdout",
          "text": [
            "['Kevin', 'Karen', 'Jim', 'Oscar']\n"
          ]
        }
      ]
    },
    {
      "cell_type": "code",
      "source": [
        "lucky_numbers = [4, 8, 15, 16, 23, 42]\n",
        "friends = [\"Kevin\", \"Karen\", \"Jim\", \"Oscar\", \"Toby\"]\n",
        "\n",
        "print(friends.index(\"Kevin\"))"
      ],
      "metadata": {
        "colab": {
          "base_uri": "https://localhost:8080/"
        },
        "id": "9KeRMbgIeIx8",
        "outputId": "9ece95b6-2e2b-4e9d-8136-66abd296a225"
      },
      "execution_count": null,
      "outputs": [
        {
          "output_type": "stream",
          "name": "stdout",
          "text": [
            "0\n"
          ]
        }
      ]
    },
    {
      "cell_type": "code",
      "source": [
        "lucky_numbers = [4, 8, 15, 16, 23, 42]\n",
        "friends = [\"Kevin\", \"Karen\", \"Jim\", \"Oscar\", \"Toby\"]\n",
        "\n",
        "print(friends.index(\"Oscar\"))"
      ],
      "metadata": {
        "colab": {
          "base_uri": "https://localhost:8080/"
        },
        "id": "gGHgD2gxeQ59",
        "outputId": "15808d49-6463-4143-c7aa-b99e4af6f65d"
      },
      "execution_count": null,
      "outputs": [
        {
          "output_type": "stream",
          "name": "stdout",
          "text": [
            "3\n"
          ]
        }
      ]
    },
    {
      "cell_type": "code",
      "source": [
        "lucky_numbers = [4, 8, 15, 16, 23, 42]\n",
        "friends = [\"Kevin\", \"Karen\", \"Jim\", \"Oscar\", \"Toby\"]\n",
        "\n",
        "print(friends.index(\"Mike\"))"
      ],
      "metadata": {
        "colab": {
          "base_uri": "https://localhost:8080/",
          "height": 200
        },
        "id": "hhFyG5iFeUK5",
        "outputId": "3cbf1c1c-37da-45da-d581-ef9a30fb5c28"
      },
      "execution_count": null,
      "outputs": [
        {
          "output_type": "error",
          "ename": "ValueError",
          "evalue": "ignored",
          "traceback": [
            "\u001b[0;31m---------------------------------------------------------------------------\u001b[0m",
            "\u001b[0;31mValueError\u001b[0m                                Traceback (most recent call last)",
            "\u001b[0;32m<ipython-input-10-87b5ea36dc16>\u001b[0m in \u001b[0;36m<module>\u001b[0;34m\u001b[0m\n\u001b[1;32m      2\u001b[0m \u001b[0mfriends\u001b[0m \u001b[0;34m=\u001b[0m \u001b[0;34m[\u001b[0m\u001b[0;34m\"Kevin\"\u001b[0m\u001b[0;34m,\u001b[0m \u001b[0;34m\"Karen\"\u001b[0m\u001b[0;34m,\u001b[0m \u001b[0;34m\"Jim\"\u001b[0m\u001b[0;34m,\u001b[0m \u001b[0;34m\"Oscar\"\u001b[0m\u001b[0;34m,\u001b[0m \u001b[0;34m\"Toby\"\u001b[0m\u001b[0;34m]\u001b[0m\u001b[0;34m\u001b[0m\u001b[0;34m\u001b[0m\u001b[0m\n\u001b[1;32m      3\u001b[0m \u001b[0;34m\u001b[0m\u001b[0m\n\u001b[0;32m----> 4\u001b[0;31m \u001b[0mprint\u001b[0m\u001b[0;34m(\u001b[0m\u001b[0mfriends\u001b[0m\u001b[0;34m.\u001b[0m\u001b[0mindex\u001b[0m\u001b[0;34m(\u001b[0m\u001b[0;34m\"Mike\"\u001b[0m\u001b[0;34m)\u001b[0m\u001b[0;34m)\u001b[0m\u001b[0;34m\u001b[0m\u001b[0;34m\u001b[0m\u001b[0m\n\u001b[0m",
            "\u001b[0;31mValueError\u001b[0m: 'Mike' is not in list"
          ]
        }
      ]
    },
    {
      "cell_type": "code",
      "source": [
        "lucky_numbers = [4, 8, 15, 16, 23, 42]\n",
        "friends = [\"Kevin\", \"Karen\", \"Jim\", \"Jim\", \"Oscar\", \"Toby\"]\n",
        "\n",
        "print(friends.count(\"Jim\"))"
      ],
      "metadata": {
        "colab": {
          "base_uri": "https://localhost:8080/"
        },
        "id": "sAxTIyVJeXQW",
        "outputId": "3911839b-875a-4c5c-d919-d8c68d14b222"
      },
      "execution_count": null,
      "outputs": [
        {
          "output_type": "stream",
          "name": "stdout",
          "text": [
            "2\n"
          ]
        }
      ]
    },
    {
      "cell_type": "code",
      "source": [
        "lucky_numbers = [4, 8, 15, 16, 23, 42]\n",
        "friends = [\"Kevin\", \"Karen\", \"Jim\", \"Jim\", \"Oscar\", \"Toby\"]\n",
        "friends.sort()\n",
        "print(friends)"
      ],
      "metadata": {
        "colab": {
          "base_uri": "https://localhost:8080/"
        },
        "id": "_cYTb5WSeg31",
        "outputId": "4f1d7bb2-c864-4e4a-cab3-5219d657808d"
      },
      "execution_count": null,
      "outputs": [
        {
          "output_type": "stream",
          "name": "stdout",
          "text": [
            "['Jim', 'Jim', 'Karen', 'Kevin', 'Oscar', 'Toby']\n"
          ]
        }
      ]
    },
    {
      "cell_type": "code",
      "source": [
        "lucky_numbers = [42, 8, 15, 16, 23]\n",
        "friends = [\"Kevin\", \"Karen\", \"Jim\", \"Jim\", \"Oscar\", \"Toby\"]\n",
        "lucky_numbers.sort()\n",
        "print(lucky_numbers)"
      ],
      "metadata": {
        "id": "8VsOmybdepEf"
      },
      "execution_count": null,
      "outputs": []
    },
    {
      "cell_type": "code",
      "source": [
        "lucky_numbers = [42, 8, 15, 16, 23]\n",
        "friends = [\"Kevin\", \"Karen\", \"Jim\", \"Jim\", \"Oscar\", \"Toby\"]\n",
        "lucky_numbers.reverse()\n",
        "print(lucky_numbers)"
      ],
      "metadata": {
        "id": "EEE05bbfexx5"
      },
      "execution_count": null,
      "outputs": []
    },
    {
      "cell_type": "code",
      "source": [
        "lucky_numbers = [42, 8, 15, 16, 23]\n",
        "friends = [\"Kevin\", \"Karen\", \"Jim\", \"Jim\", \"Oscar\", \"Toby\"]\n",
        "\n",
        "friends2 = friends.copy()\n",
        "\n",
        "print(friends2)"
      ],
      "metadata": {
        "id": "nu1lNbAkez75"
      },
      "execution_count": null,
      "outputs": []
    },
    {
      "cell_type": "markdown",
      "source": [
        "# Tuples"
      ],
      "metadata": {
        "id": "OGO2HtBge9Ut"
      }
    },
    {
      "cell_type": "code",
      "source": [
        "coordinates = (4, 5)\n",
        "\n",
        "print(coordinates[0])"
      ],
      "metadata": {
        "colab": {
          "base_uri": "https://localhost:8080/"
        },
        "id": "hYDOsRGse_Zs",
        "outputId": "bce83d28-058e-40ed-e557-ae87f89a011e"
      },
      "execution_count": null,
      "outputs": [
        {
          "output_type": "stream",
          "name": "stdout",
          "text": [
            "4\n"
          ]
        }
      ]
    },
    {
      "cell_type": "code",
      "source": [
        "coordinates = (4, 5)\n",
        "\n",
        "print(coordinates[1])"
      ],
      "metadata": {
        "colab": {
          "base_uri": "https://localhost:8080/"
        },
        "id": "Sgj7mLAgfg7G",
        "outputId": "5f3912f5-bf45-4ef0-eb9f-5966739c5710"
      },
      "execution_count": null,
      "outputs": [
        {
          "output_type": "stream",
          "name": "stdout",
          "text": [
            "5\n"
          ]
        }
      ]
    },
    {
      "cell_type": "code",
      "source": [
        "coordinates = (4, 5)\n",
        "coordinates[1] = 10\n",
        "print(coordinates[1])"
      ],
      "metadata": {
        "colab": {
          "base_uri": "https://localhost:8080/",
          "height": 200
        },
        "id": "hs4W2XiPfjKu",
        "outputId": "2085b64d-ae95-4f4b-81c8-48f9d4e25dc0"
      },
      "execution_count": null,
      "outputs": [
        {
          "output_type": "error",
          "ename": "TypeError",
          "evalue": "ignored",
          "traceback": [
            "\u001b[0;31m---------------------------------------------------------------------------\u001b[0m",
            "\u001b[0;31mTypeError\u001b[0m                                 Traceback (most recent call last)",
            "\u001b[0;32m<ipython-input-16-a3b0b3dfefef>\u001b[0m in \u001b[0;36m<module>\u001b[0;34m\u001b[0m\n\u001b[1;32m      1\u001b[0m \u001b[0mcoordinates\u001b[0m \u001b[0;34m=\u001b[0m \u001b[0;34m(\u001b[0m\u001b[0;36m4\u001b[0m\u001b[0;34m,\u001b[0m \u001b[0;36m5\u001b[0m\u001b[0;34m)\u001b[0m\u001b[0;34m\u001b[0m\u001b[0;34m\u001b[0m\u001b[0m\n\u001b[0;32m----> 2\u001b[0;31m \u001b[0mcoordinates\u001b[0m\u001b[0;34m[\u001b[0m\u001b[0;36m1\u001b[0m\u001b[0;34m]\u001b[0m \u001b[0;34m=\u001b[0m \u001b[0;36m10\u001b[0m\u001b[0;34m\u001b[0m\u001b[0;34m\u001b[0m\u001b[0m\n\u001b[0m\u001b[1;32m      3\u001b[0m \u001b[0mprint\u001b[0m\u001b[0;34m(\u001b[0m\u001b[0mcoordinates\u001b[0m\u001b[0;34m[\u001b[0m\u001b[0;36m1\u001b[0m\u001b[0;34m]\u001b[0m\u001b[0;34m)\u001b[0m\u001b[0;34m\u001b[0m\u001b[0;34m\u001b[0m\u001b[0m\n",
            "\u001b[0;31mTypeError\u001b[0m: 'tuple' object does not support item assignment"
          ]
        }
      ]
    },
    {
      "cell_type": "code",
      "source": [
        "coordinates = [(4, 5), (6, 7), (80, 34)]\n",
        "coordinates[1] = 10\n",
        "print(coordinates[1])"
      ],
      "metadata": {
        "id": "fuhS3MO6fzoB"
      },
      "execution_count": null,
      "outputs": []
    },
    {
      "cell_type": "markdown",
      "source": [
        "# Functions"
      ],
      "metadata": {
        "id": "qqyIjR7IgLOE"
      }
    },
    {
      "cell_type": "code",
      "source": [
        "def sayhi():\n",
        "  print(\"Hello User\")\n",
        "\n",
        "sayhi()"
      ],
      "metadata": {
        "colab": {
          "base_uri": "https://localhost:8080/"
        },
        "id": "GQkh2paagJIN",
        "outputId": "7f612079-9d82-4108-f166-e8d4f898f947"
      },
      "execution_count": null,
      "outputs": [
        {
          "output_type": "stream",
          "name": "stdout",
          "text": [
            "Hello User\n"
          ]
        }
      ]
    },
    {
      "cell_type": "code",
      "source": [
        "def sayhi():\n",
        "  print(\"Hello User\")\n",
        "\n",
        "\n",
        "print(\"Top\")\n",
        "sayhi()\n",
        "print(\"Bottom\")"
      ],
      "metadata": {
        "colab": {
          "base_uri": "https://localhost:8080/"
        },
        "id": "1pH-TPZ4jGCz",
        "outputId": "b82d75f1-8542-465d-e5f1-6535017f3083"
      },
      "execution_count": null,
      "outputs": [
        {
          "output_type": "stream",
          "name": "stdout",
          "text": [
            "Top\n",
            "Hello User\n",
            "Bottom\n"
          ]
        }
      ]
    },
    {
      "cell_type": "code",
      "source": [
        "def say_hi():\n",
        "  print(\"Hello User\")\n",
        "\n",
        "say_hi()"
      ],
      "metadata": {
        "id": "22jqfstFjQaN"
      },
      "execution_count": null,
      "outputs": []
    },
    {
      "cell_type": "code",
      "source": [
        "def say_hi(name):\n",
        "  print(\"Hello \" + name)\n",
        "\n",
        "say_hi(\"Mike\")\n",
        "say_hi(\"Steve\")"
      ],
      "metadata": {
        "colab": {
          "base_uri": "https://localhost:8080/"
        },
        "id": "ujHWIXX1jktw",
        "outputId": "b0d58a99-5517-4a22-c3d5-a4252e0e9c6f"
      },
      "execution_count": null,
      "outputs": [
        {
          "output_type": "stream",
          "name": "stdout",
          "text": [
            "Hello Mike\n",
            "Hello Steve\n"
          ]
        }
      ]
    },
    {
      "cell_type": "code",
      "source": [
        "def say_hi(name, age):\n",
        "  print(\"Hello \" + name + \", you are \" + age)\n",
        "\n",
        "say_hi(\"Mike\", \"35\")\n",
        "say_hi(\"Steve\", \"70\")"
      ],
      "metadata": {
        "colab": {
          "base_uri": "https://localhost:8080/"
        },
        "id": "3d3Q7lRWj7YT",
        "outputId": "78961547-9858-4d5f-f203-0abd32951c1b"
      },
      "execution_count": null,
      "outputs": [
        {
          "output_type": "stream",
          "name": "stdout",
          "text": [
            "Hello Mike, you are 35\n",
            "Hello Steve, you are 70\n"
          ]
        }
      ]
    },
    {
      "cell_type": "code",
      "source": [
        "def say_hi(name, age):\n",
        "  print(\"Hello \" + name + \", you are \" + str(age))\n",
        "\n",
        "say_hi(\"Mike\", 35)\n",
        "say_hi(\"Steve\", 70)"
      ],
      "metadata": {
        "colab": {
          "base_uri": "https://localhost:8080/"
        },
        "id": "4mqr_bzrkHtq",
        "outputId": "ffba37c7-ab98-45b7-ce6c-12fd9ebc588a"
      },
      "execution_count": null,
      "outputs": [
        {
          "output_type": "stream",
          "name": "stdout",
          "text": [
            "Hello Mike, you are 35\n",
            "Hello Steve, you are 70\n"
          ]
        }
      ]
    },
    {
      "cell_type": "markdown",
      "source": [
        "# Return Statement"
      ],
      "metadata": {
        "id": "6Ia3B6v1kfci"
      }
    },
    {
      "cell_type": "code",
      "source": [
        "def cube(num):\n",
        "  num*num*num\n",
        "\n",
        "\n",
        "cube(3)"
      ],
      "metadata": {
        "colab": {
          "base_uri": "https://localhost:8080/"
        },
        "id": "I7hHMiy3kS3V",
        "outputId": "6320d47f-8d7b-4bde-f20e-3f04552b3cc9"
      },
      "execution_count": null,
      "outputs": [
        {
          "output_type": "stream",
          "name": "stdout",
          "text": [
            "None\n"
          ]
        }
      ]
    },
    {
      "cell_type": "code",
      "source": [
        "def cube(num):\n",
        "  num*num*num\n",
        "\n",
        "\n",
        "print(cube(3))"
      ],
      "metadata": {
        "id": "Qr3719WelKmA"
      },
      "execution_count": null,
      "outputs": []
    },
    {
      "cell_type": "code",
      "source": [
        "def cube(num):\n",
        "  return num*num*num\n",
        "\n",
        "\n",
        "print(cube(3))"
      ],
      "metadata": {
        "colab": {
          "base_uri": "https://localhost:8080/"
        },
        "id": "SvKBXWg6lMzN",
        "outputId": "f3d79b2f-81fc-436f-f967-2d84d0d7e167"
      },
      "execution_count": null,
      "outputs": [
        {
          "output_type": "stream",
          "name": "stdout",
          "text": [
            "27\n"
          ]
        }
      ]
    },
    {
      "cell_type": "code",
      "source": [
        "def cube(num):\n",
        "  return num*num*num\n",
        "\n",
        "\n",
        "print(cube(4))"
      ],
      "metadata": {
        "colab": {
          "base_uri": "https://localhost:8080/"
        },
        "id": "wmjXbtgenx52",
        "outputId": "ae630c0a-5e38-4b12-dd2a-f028c6dc03da"
      },
      "execution_count": null,
      "outputs": [
        {
          "output_type": "stream",
          "name": "stdout",
          "text": [
            "64\n"
          ]
        }
      ]
    },
    {
      "cell_type": "code",
      "source": [
        "def cube(num):\n",
        "  return num*num*num\n",
        "\n",
        "result = cube(4)\n",
        "print(result)"
      ],
      "metadata": {
        "colab": {
          "base_uri": "https://localhost:8080/"
        },
        "id": "6oXnnt6An1e5",
        "outputId": "278a26a6-0eed-4822-d69c-f2d86570be0e"
      },
      "execution_count": null,
      "outputs": [
        {
          "output_type": "stream",
          "name": "stdout",
          "text": [
            "64\n"
          ]
        }
      ]
    },
    {
      "cell_type": "code",
      "source": [
        "def cube(num):\n",
        "  return num*num*num    # python breaks the code from this statement\n",
        "  print(\"code\")    # doesn't print \n",
        "\n",
        "result = cube(4)\n",
        "print(result)"
      ],
      "metadata": {
        "colab": {
          "base_uri": "https://localhost:8080/"
        },
        "id": "FQuLMwHQn902",
        "outputId": "081ea70e-74f0-41dc-ed71-e4ab47494ed6"
      },
      "execution_count": null,
      "outputs": [
        {
          "output_type": "stream",
          "name": "stdout",
          "text": [
            "64\n"
          ]
        }
      ]
    },
    {
      "cell_type": "markdown",
      "source": [
        "# If Statements"
      ],
      "metadata": {
        "id": "t-_FaW85oavT"
      }
    },
    {
      "cell_type": "markdown",
      "source": [
        "I wake up\n",
        "If I'm hungry \n",
        "  I eat breakfast\n",
        "\n"
      ],
      "metadata": {
        "id": "WP36dn1Uo59B"
      }
    },
    {
      "cell_type": "code",
      "source": [
        "is_male = True\n",
        "\n",
        "if is_male:\n",
        "  print(\"You are a male\")"
      ],
      "metadata": {
        "colab": {
          "base_uri": "https://localhost:8080/"
        },
        "id": "XgGKkqihoOCF",
        "outputId": "38dfbb76-8c1c-42ab-83ad-245560856c85"
      },
      "execution_count": null,
      "outputs": [
        {
          "output_type": "stream",
          "name": "stdout",
          "text": [
            "You are a male\n"
          ]
        }
      ]
    },
    {
      "cell_type": "code",
      "source": [
        "is_male = False\n",
        "\n",
        "if is_male:\n",
        "  print(\"You are a male\")"
      ],
      "metadata": {
        "id": "OFLAx_Nmpjn7"
      },
      "execution_count": null,
      "outputs": []
    },
    {
      "cell_type": "code",
      "source": [
        "is_male = False\n",
        "\n",
        "if is_male:\n",
        "  print(\"You are a male\")\n",
        "else:\n",
        "  print(\"You are not a male\")"
      ],
      "metadata": {
        "colab": {
          "base_uri": "https://localhost:8080/"
        },
        "id": "oFyrYuW0ptLh",
        "outputId": "2dcdea50-e397-49df-db4e-ac24262f70ec"
      },
      "execution_count": null,
      "outputs": [
        {
          "output_type": "stream",
          "name": "stdout",
          "text": [
            "You are not a male\n"
          ]
        }
      ]
    },
    {
      "cell_type": "code",
      "source": [
        "is_male = True\n",
        "\n",
        "if is_male:\n",
        "  print(\"You are a male\")\n",
        "else:\n",
        "  print(\"You are not a male\")"
      ],
      "metadata": {
        "colab": {
          "base_uri": "https://localhost:8080/"
        },
        "id": "KpwOefrCp23o",
        "outputId": "02b1fb4f-d8cf-47e1-bd87-293d7da788b9"
      },
      "execution_count": null,
      "outputs": [
        {
          "output_type": "stream",
          "name": "stdout",
          "text": [
            "You are a male\n"
          ]
        }
      ]
    },
    {
      "cell_type": "code",
      "source": [
        "is_male = True\n",
        "is_tall = True\n",
        "\n",
        "if is_male or is_tall:\n",
        "  print(\"You are a male or tall or both\")\n",
        "else:\n",
        "  print(\"You are neither male nor tall\")"
      ],
      "metadata": {
        "colab": {
          "base_uri": "https://localhost:8080/"
        },
        "id": "1UP3we3vqAAc",
        "outputId": "e8b3911f-1cda-4aa3-a373-1333ed149a76"
      },
      "execution_count": null,
      "outputs": [
        {
          "output_type": "stream",
          "name": "stdout",
          "text": [
            "You are a male or tall or both\n"
          ]
        }
      ]
    },
    {
      "cell_type": "code",
      "source": [
        "is_male = False\n",
        "is_tall = True\n",
        "\n",
        "if is_male or is_tall:\n",
        "  print(\"You are a male or tall or both\")\n",
        "else:\n",
        "  print(\"You are neither male nor tall\")"
      ],
      "metadata": {
        "colab": {
          "base_uri": "https://localhost:8080/"
        },
        "id": "r-O4IHuQqWii",
        "outputId": "ea34aebe-17a0-4a39-c842-e91b1506ddcf"
      },
      "execution_count": null,
      "outputs": [
        {
          "output_type": "stream",
          "name": "stdout",
          "text": [
            "You are a male or tall or both\n"
          ]
        }
      ]
    },
    {
      "cell_type": "code",
      "source": [
        "is_male = False\n",
        "is_tall = False\n",
        "\n",
        "if is_male or is_tall:\n",
        "  print(\"You are a male or tall or both\")\n",
        "else:\n",
        "  print(\"You are neither male nor tall\")"
      ],
      "metadata": {
        "colab": {
          "base_uri": "https://localhost:8080/"
        },
        "id": "Pbf-rbxEqbd4",
        "outputId": "b7a71294-25b5-4ea6-a76c-8100d18250b2"
      },
      "execution_count": null,
      "outputs": [
        {
          "output_type": "stream",
          "name": "stdout",
          "text": [
            "You are neither male nor tall\n"
          ]
        }
      ]
    },
    {
      "cell_type": "code",
      "source": [
        "is_male = False\n",
        "is_tall = False\n",
        "\n",
        "if is_male and is_tall:\n",
        "  print(\"You are a tall male\")\n",
        "else:\n",
        "  print(\"You are either not male or not tall or both\")"
      ],
      "metadata": {
        "colab": {
          "base_uri": "https://localhost:8080/"
        },
        "id": "2FnO0wwXqecA",
        "outputId": "07740449-7760-41d8-c729-1495ff63813f"
      },
      "execution_count": null,
      "outputs": [
        {
          "output_type": "stream",
          "name": "stdout",
          "text": [
            "You are either not male or not tall or both\n"
          ]
        }
      ]
    },
    {
      "cell_type": "code",
      "source": [
        "is_male = True\n",
        "is_tall = True\n",
        "\n",
        "if is_male and is_tall:\n",
        "  print(\"You are a tall male\")\n",
        "else:\n",
        "  print(\"You are either not male or not tall or both\")"
      ],
      "metadata": {
        "id": "1v_y7AjkqtMr"
      },
      "execution_count": null,
      "outputs": []
    },
    {
      "cell_type": "code",
      "source": [
        "is_male = True\n",
        "is_tall = False\n",
        "\n",
        "if is_male and is_tall:\n",
        "  print(\"You are a tall male\")\n",
        "else:\n",
        "  print(\"You are either not male or not tall or both\")"
      ],
      "metadata": {
        "id": "j5G8x6U7qybh"
      },
      "execution_count": null,
      "outputs": []
    },
    {
      "cell_type": "code",
      "source": [
        "is_male = True\n",
        "is_tall = False\n",
        "\n",
        "if is_male and is_tall:\n",
        "  print(\"You are a tall male\")\n",
        "elif is_male and not(is_tall):\n",
        "  print(\"You are a short male\")\n",
        "elif not(is_male) and is_tall:\n",
        "  print(\"You are not a male but are tall\")\n",
        "else:\n",
        "  print(\"You are either not male and not tall\")"
      ],
      "metadata": {
        "id": "arYU0nqLq0jM"
      },
      "execution_count": null,
      "outputs": []
    },
    {
      "cell_type": "code",
      "source": [
        "is_male = True\n",
        "is_tall = True\n",
        "\n",
        "if is_male and is_tall:\n",
        "  print(\"You are a tall male\")\n",
        "elif is_male and not(is_tall):\n",
        "  print(\"You are a short male\")\n",
        "elif not(is_male) and is_tall:\n",
        "  print(\"You are not a male but are tall\")\n",
        "else:\n",
        "  print(\"You are either not male and not tall\")"
      ],
      "metadata": {
        "id": "amJaxeM8rQ4C"
      },
      "execution_count": null,
      "outputs": []
    },
    {
      "cell_type": "code",
      "source": [
        "is_male = False\n",
        "is_tall = False\n",
        "\n",
        "if is_male and is_tall:\n",
        "  print(\"You are a tall male\")\n",
        "elif is_male and not(is_tall):\n",
        "  print(\"You are a short male\")\n",
        "elif not(is_male) and is_tall:\n",
        "  print(\"You are not a male but are tall\")\n",
        "else:\n",
        "  print(\"You are either not male and not tall\")"
      ],
      "metadata": {
        "id": "ey_C2F7-rSdP"
      },
      "execution_count": null,
      "outputs": []
    },
    {
      "cell_type": "code",
      "source": [
        "is_male = False\n",
        "is_tall = True\n",
        "\n",
        "if is_male and is_tall:\n",
        "  print(\"You are a tall male\")\n",
        "elif is_male and not(is_tall):\n",
        "  print(\"You are a short male\")\n",
        "elif not(is_male) and is_tall:\n",
        "  print(\"You are not a male but are tall\")\n",
        "else:\n",
        "  print(\"You are either not male and not tall\")"
      ],
      "metadata": {
        "id": "mLZJXEYErUqi"
      },
      "execution_count": null,
      "outputs": []
    },
    {
      "cell_type": "markdown",
      "source": [
        "# If Statements & Comparisons"
      ],
      "metadata": {
        "id": "IaI4iJzOrpzu"
      }
    },
    {
      "cell_type": "code",
      "source": [
        "def max_num(num1, num2, num3):\n",
        "  if num1 >= num2 and num1 >= num3:\n",
        "    return num1\n",
        "  elif num2 >= num1 and num2 >= num3:\n",
        "    return num2\n",
        "  else:\n",
        "    return num3\n",
        "\n",
        "\n",
        "print(max_num(3, 4, 5))"
      ],
      "metadata": {
        "colab": {
          "base_uri": "https://localhost:8080/"
        },
        "id": "ZKHXrpRErpjp",
        "outputId": "cf0445a9-eaa6-473e-aa4e-637fbc0eb601"
      },
      "execution_count": null,
      "outputs": [
        {
          "output_type": "stream",
          "name": "stdout",
          "text": [
            "5\n"
          ]
        }
      ]
    },
    {
      "cell_type": "code",
      "source": [
        "def max_num(num1, num2, num3):\n",
        "  if num1 >= num2 and num1 >= num3:\n",
        "    return num1\n",
        "  elif num2 >= num1 and num2 >= num3:\n",
        "    return num2\n",
        "  else:\n",
        "    return num3\n",
        "\n",
        "\n",
        "print(max_num(3, 40, 5))"
      ],
      "metadata": {
        "id": "mi7w_opwsttV"
      },
      "execution_count": null,
      "outputs": []
    },
    {
      "cell_type": "code",
      "source": [
        "def max_num(num1, num2, num3):\n",
        "  if num1 >= num2 and num1 >= num3:\n",
        "    return num1\n",
        "  elif num2 >= num1 and num2 >= num3:\n",
        "    return num2\n",
        "  else:\n",
        "    return num3\n",
        "\n",
        "\n",
        "print(max_num(300, 40, 5))"
      ],
      "metadata": {
        "id": "9LePPlQHsukj"
      },
      "execution_count": null,
      "outputs": []
    },
    {
      "cell_type": "code",
      "source": [
        "def max_num(num1, num2, num3):\n",
        "  if num1 >= num2 and num1 >= num3:       # We can do if \"dog\" >= \"dog\" and num1 >= num3: \n",
        "    return num1                           #           if \"dog\" == \"dog\" and num1 >= num3: \n",
        "  elif num2 >= num1 and num2 >= num3:\n",
        "    return num2                           # Comparison operators : ==   !=    <   >   <=    >=    \n",
        "  else:\n",
        "    return num3\n",
        "\n",
        "\n",
        "print(max_num(3, 4, 5))"
      ],
      "metadata": {
        "id": "1Qz62faiswzj"
      },
      "execution_count": null,
      "outputs": []
    },
    {
      "cell_type": "markdown",
      "source": [
        "# Building a better Calculator"
      ],
      "metadata": {
        "id": "GYtdsgGPtm7a"
      }
    },
    {
      "cell_type": "code",
      "source": [
        "num1 = float(input(\"Enter first number: \"))\n",
        "op = input(\"Enter operator: \")\n",
        "num2 = float(input(\"Enter second number: \"))\n",
        "\n",
        "if op == \"+\":\n",
        "  print(num1 + num2)\n",
        "elif op == \"-\":\n",
        "  print(num1 - num2)\n",
        "elif op == \"/\":\n",
        "  print(num1 / num2)\n",
        "elif op == \"*\":\n",
        "  print(num1 * num2)\n",
        "else: \n",
        "  print(\"Invalid operator\")"
      ],
      "metadata": {
        "colab": {
          "base_uri": "https://localhost:8080/"
        },
        "id": "Ddbd6NtStuEi",
        "outputId": "ca22ad37-ee6c-44ad-c3bc-048ec5140a06"
      },
      "execution_count": null,
      "outputs": [
        {
          "output_type": "stream",
          "name": "stdout",
          "text": [
            "Enter first number: 5 \n",
            "Enter operator: ()\n",
            "Enter second number: 4\n",
            "Invalid operator\n"
          ]
        }
      ]
    },
    {
      "cell_type": "markdown",
      "source": [
        "# Dictionaries"
      ],
      "metadata": {
        "id": "3i5ySKNhvShm"
      }
    },
    {
      "cell_type": "code",
      "source": [
        "monthConversions = {\n",
        "    \"Jan\": \"January\",\n",
        "    \"Feb\": \"February\",\n",
        "    \"Mar\": \"March\",\n",
        "    \"Apr\": \"April\",\n",
        "    \"May\": \"May\",\n",
        "    \"Jun\": \"June\",\n",
        "    \"Jul\": \"July\",\n",
        "    \"Aug\": \"August\",\n",
        "    \"Sep\": \"September\",\n",
        "    \"Oct\": \"October\",\n",
        "    \"Nov\": \"November\",\n",
        "    \"Dec\": \"December\"\n",
        "}\n",
        "\n",
        "print(monthConversions[\"Nov\"])"
      ],
      "metadata": {
        "colab": {
          "base_uri": "https://localhost:8080/"
        },
        "id": "PZVgjM0YvRuu",
        "outputId": "9af22594-c4d9-43b5-8df1-4d2b245f2b0d"
      },
      "execution_count": null,
      "outputs": [
        {
          "output_type": "stream",
          "name": "stdout",
          "text": [
            "November\n"
          ]
        }
      ]
    },
    {
      "cell_type": "code",
      "source": [
        "monthConversions = {\n",
        "    \"Jan\": \"January\",\n",
        "    \"Feb\": \"February\",\n",
        "    \"Mar\": \"March\",\n",
        "    \"Apr\": \"April\",\n",
        "    \"May\": \"May\",\n",
        "    \"Jun\": \"June\",\n",
        "    \"Jul\": \"July\",\n",
        "    \"Aug\": \"August\",\n",
        "    \"Sep\": \"September\",\n",
        "    \"Oct\": \"October\",\n",
        "    \"Nov\": \"November\",\n",
        "    \"Dec\": \"December\"\n",
        "}\n",
        "\n",
        "print(monthConversions.get(\"Dec\"))"
      ],
      "metadata": {
        "colab": {
          "base_uri": "https://localhost:8080/"
        },
        "id": "1azx3mXSwd_s",
        "outputId": "a9a22e26-c75b-4825-d57c-3be4c7e05525"
      },
      "execution_count": null,
      "outputs": [
        {
          "output_type": "stream",
          "name": "stdout",
          "text": [
            "December\n"
          ]
        }
      ]
    },
    {
      "cell_type": "code",
      "source": [
        "monthConversions = {\n",
        "    \"Jan\": \"January\",\n",
        "    \"Feb\": \"February\",\n",
        "    \"Mar\": \"March\",\n",
        "    \"Apr\": \"April\",\n",
        "    \"May\": \"May\",\n",
        "    \"Jun\": \"June\",\n",
        "    \"Jul\": \"July\",\n",
        "    \"Aug\": \"August\",\n",
        "    \"Sep\": \"September\",\n",
        "    \"Oct\": \"October\",\n",
        "    \"Nov\": \"November\",\n",
        "    \"Dec\": \"December\"\n",
        "}\n",
        "\n",
        "print(monthConversions.get(\"Luv\"))"
      ],
      "metadata": {
        "colab": {
          "base_uri": "https://localhost:8080/"
        },
        "id": "yGmbIHLTwi5s",
        "outputId": "2412ad02-653f-44e1-b855-3a83a603230f"
      },
      "execution_count": null,
      "outputs": [
        {
          "output_type": "stream",
          "name": "stdout",
          "text": [
            "Not a valid Key\n"
          ]
        }
      ]
    },
    {
      "cell_type": "code",
      "source": [
        "monthConversions = {\n",
        "    \"Jan\": \"January\",\n",
        "    \"Feb\": \"February\",\n",
        "    \"Mar\": \"March\",\n",
        "    \"Apr\": \"April\",\n",
        "    \"May\": \"May\",\n",
        "    \"Jun\": \"June\",\n",
        "    \"Jul\": \"July\",\n",
        "    \"Aug\": \"August\",\n",
        "    \"Sep\": \"September\",\n",
        "    \"Oct\": \"October\",\n",
        "    \"Nov\": \"November\",\n",
        "    \"Dec\": \"December\"\n",
        "}\n",
        "\n",
        "print(monthConversions.get(\"Luv\", \"Not a valid Key\"))"
      ],
      "metadata": {
        "id": "cGyiPhuywuLD"
      },
      "execution_count": null,
      "outputs": []
    },
    {
      "cell_type": "code",
      "source": [
        "monthConversions = {\n",
        "    0: \"January\",\n",
        "    1: \"February\",\n",
        "    10: \"March\",\n",
        "    \"Apr\": \"April\",\n",
        "    \"May\": \"May\",\n",
        "    \"Jun\": \"June\",\n",
        "    \"Jul\": \"July\",\n",
        "    \"Aug\": \"August\",\n",
        "    \"Sep\": \"September\",\n",
        "    \"Oct\": \"October\",\n",
        "    \"Nov\": \"November\",\n",
        "    \"Dec\": \"December\"\n",
        "}\n",
        "\n",
        "print(monthConversions.get(\"Luv\", \"Not a valid Key\"))"
      ],
      "metadata": {
        "id": "7ijgv-cVwwrg"
      },
      "execution_count": null,
      "outputs": []
    },
    {
      "cell_type": "markdown",
      "source": [
        "# While Loop"
      ],
      "metadata": {
        "id": "l0pH_i1Vw3i2"
      }
    },
    {
      "cell_type": "code",
      "source": [
        "i = 1\n",
        "while i <= 10:\n",
        "  print(i)\n",
        "  i += 1\n",
        "\n",
        "print(\"Done with loop\")"
      ],
      "metadata": {
        "colab": {
          "base_uri": "https://localhost:8080/"
        },
        "id": "Ebm3rYxuwwp2",
        "outputId": "9701ba3a-70dc-4ac7-b29e-138b7c9e8c74"
      },
      "execution_count": null,
      "outputs": [
        {
          "output_type": "stream",
          "name": "stdout",
          "text": [
            "1\n",
            "2\n",
            "3\n",
            "4\n",
            "5\n",
            "6\n",
            "7\n",
            "8\n",
            "9\n",
            "10\n",
            "Done with loop\n"
          ]
        }
      ]
    },
    {
      "cell_type": "markdown",
      "source": [
        "# Building a Guessing Game"
      ],
      "metadata": {
        "id": "tbcbtNEiycve"
      }
    },
    {
      "cell_type": "code",
      "source": [
        "secret_word = \"giraffe\"\n",
        "guess = \"\"\n",
        "guess_count = 0\n",
        "guess_limit = 3\n",
        "out_of_guesses = False\n",
        "\n",
        "while guess != secret_word and not(out_of_guesses):\n",
        "  if guess_count < guess_limit:\n",
        "    guess = input(\"Enter guess: \")\n",
        "    guess_count += 1\n",
        "  else:\n",
        "    out_of_guesses = True\n",
        "\n",
        "if out_of_guesses:\n",
        "  print(\"Out of Guesses, YOU LOSE!\")\n",
        "else:\n",
        "  print(\"You win!\")"
      ],
      "metadata": {
        "id": "i3fKd17Lxqw-",
        "colab": {
          "base_uri": "https://localhost:8080/"
        },
        "outputId": "d23293ad-409b-4496-b2af-f70b40533f05"
      },
      "execution_count": 4,
      "outputs": [
        {
          "output_type": "stream",
          "name": "stdout",
          "text": [
            "Enter guess: fasd\n",
            "Enter guess: efwef\n",
            "Enter guess: sc\n",
            "Out of Guesses, YOU LOSE!\n"
          ]
        }
      ]
    },
    {
      "cell_type": "markdown",
      "source": [
        "# For Loop"
      ],
      "metadata": {
        "id": "qsvhot1veEtl"
      }
    },
    {
      "cell_type": "code",
      "source": [
        "for letter in \"Giraffe Academy\":\n",
        "  print(letter)\n",
        "  "
      ],
      "metadata": {
        "colab": {
          "base_uri": "https://localhost:8080/"
        },
        "id": "5ywkILDOeEUW",
        "outputId": "cc59dd5a-5138-4a2d-c837-876b76c59adc"
      },
      "execution_count": 5,
      "outputs": [
        {
          "output_type": "stream",
          "name": "stdout",
          "text": [
            "G\n",
            "i\n",
            "r\n",
            "a\n",
            "f\n",
            "f\n",
            "e\n",
            " \n",
            "A\n",
            "c\n",
            "a\n",
            "d\n",
            "e\n",
            "m\n",
            "y\n"
          ]
        }
      ]
    },
    {
      "cell_type": "code",
      "source": [
        "friends = [\"Jim\", \"Karen\", \"Kevin\"]\n",
        "for friend in friends:\n",
        "  print(friend)"
      ],
      "metadata": {
        "colab": {
          "base_uri": "https://localhost:8080/"
        },
        "id": "plzPbdB7dx-j",
        "outputId": "ecb8aa53-d014-4dc7-8f40-f72af2886ba9"
      },
      "execution_count": 6,
      "outputs": [
        {
          "output_type": "stream",
          "name": "stdout",
          "text": [
            "Jim\n",
            "Karen\n",
            "Kevin\n"
          ]
        }
      ]
    },
    {
      "cell_type": "markdown",
      "source": [
        "\n",
        "\n",
        "```\n",
        "# This is formatted as code\n",
        "```\n",
        "\n",
        "friends = [\"Jim\", \"Karen\", \"Kevin\"]\n",
        "for name in friends:\n",
        "  print(name)"
      ],
      "metadata": {
        "id": "pouBlaSqfDS1"
      }
    },
    {
      "cell_type": "code",
      "source": [
        "friends = [\"Jim\", \"Karen\", \"Kevin\"]\n",
        "for index in range(10):\n",
        "  print(index)"
      ],
      "metadata": {
        "colab": {
          "base_uri": "https://localhost:8080/"
        },
        "id": "rDtV9yIsfGTY",
        "outputId": "7ed3fa8d-171d-4f5e-fdac-c9d1fb1042af"
      },
      "execution_count": 8,
      "outputs": [
        {
          "output_type": "stream",
          "name": "stdout",
          "text": [
            "3\n",
            "4\n",
            "5\n",
            "6\n",
            "7\n",
            "8\n",
            "9\n"
          ]
        }
      ]
    },
    {
      "cell_type": "code",
      "source": [
        "friends = [\"Jim\", \"Karen\", \"Kevin\"]\n",
        "for index in range(3, 10):\n",
        "  print(index)"
      ],
      "metadata": {
        "id": "QBwflo1efmO6"
      },
      "execution_count": null,
      "outputs": []
    },
    {
      "cell_type": "code",
      "source": [
        "friends = [\"Jim\", \"Karen\", \"Kevin\"]\n",
        "\n",
        "for index in range(len(friends)):\n",
        "  print(friends[index])"
      ],
      "metadata": {
        "colab": {
          "base_uri": "https://localhost:8080/"
        },
        "id": "2j6LLahZfpP2",
        "outputId": "406d7844-4054-407d-b640-325a038270b5"
      },
      "execution_count": 9,
      "outputs": [
        {
          "output_type": "stream",
          "name": "stdout",
          "text": [
            "Jim\n",
            "Karen\n",
            "Kevin\n"
          ]
        }
      ]
    },
    {
      "cell_type": "code",
      "source": [
        "friends = [\"Jim\", \"Karen\", \"Kevin\"]\n",
        "\n",
        "for index in range(5):\n",
        "  if index == 0:\n",
        "    print(\"first Iteration\")\n",
        "  else:\n",
        "    print(\"Not first\")\n"
      ],
      "metadata": {
        "colab": {
          "base_uri": "https://localhost:8080/"
        },
        "id": "ayW2aBKpf6sF",
        "outputId": "4eff05ad-6804-4c71-e54b-ef97b7ab7f0a"
      },
      "execution_count": 11,
      "outputs": [
        {
          "output_type": "stream",
          "name": "stdout",
          "text": [
            "first Iteration\n",
            "Not first\n",
            "Not first\n",
            "Not first\n",
            "Not first\n"
          ]
        }
      ]
    },
    {
      "cell_type": "markdown",
      "source": [
        "# Exponent Function"
      ],
      "metadata": {
        "id": "RnpU3mdnggvM"
      }
    },
    {
      "cell_type": "code",
      "source": [
        "print(2**3)"
      ],
      "metadata": {
        "colab": {
          "base_uri": "https://localhost:8080/"
        },
        "id": "v93JgLlPgeLz",
        "outputId": "6d9f98ef-a5f3-43cf-c4fc-742acc8b734b"
      },
      "execution_count": 12,
      "outputs": [
        {
          "output_type": "stream",
          "name": "stdout",
          "text": [
            "8\n"
          ]
        }
      ]
    },
    {
      "cell_type": "code",
      "source": [
        "def raise_to_power(base_num, pow_num):\n",
        "  result = 1\n",
        "  for index in range(pow_num):\n",
        "    result = result * base_num\n",
        "  return result\n",
        "\n",
        "\n",
        "print(raise_to_power(2, 3))"
      ],
      "metadata": {
        "colab": {
          "base_uri": "https://localhost:8080/"
        },
        "id": "T_5j_r6JgoA9",
        "outputId": "5fae73d8-219c-4e8c-c8f1-c173bf0a672b"
      },
      "execution_count": 14,
      "outputs": [
        {
          "output_type": "stream",
          "name": "stdout",
          "text": [
            "8\n"
          ]
        }
      ]
    },
    {
      "cell_type": "markdown",
      "source": [
        "# 2D Lists & Nested Loops"
      ],
      "metadata": {
        "id": "zW85lC5Nh4oY"
      }
    },
    {
      "cell_type": "markdown",
      "source": [
        "2D Lists"
      ],
      "metadata": {
        "id": "mUqah0cdqlOt"
      }
    },
    {
      "cell_type": "code",
      "source": [
        "number_grid = [\n",
        "    [1, 2, 3],\n",
        "    [4, 5, 6],\n",
        "    [7, 8, 9],\n",
        "    [0]\n",
        "]\n",
        "\n",
        "print(number_grid[0][0])"
      ],
      "metadata": {
        "colab": {
          "base_uri": "https://localhost:8080/"
        },
        "id": "Ucm_xxu6h9Tt",
        "outputId": "49958911-4fcb-4fdd-c129-7da3449a4b9b"
      },
      "execution_count": 15,
      "outputs": [
        {
          "output_type": "stream",
          "name": "stdout",
          "text": [
            "1\n"
          ]
        }
      ]
    },
    {
      "cell_type": "code",
      "source": [
        "number_grid = [\n",
        "    [1, 2, 3],\n",
        "    [4, 5, 6],\n",
        "    [7, 8, 9],\n",
        "    [0]\n",
        "]\n",
        "\n",
        "print(number_grid[2][1])"
      ],
      "metadata": {
        "colab": {
          "base_uri": "https://localhost:8080/"
        },
        "id": "Tmh8IKfeqdoA",
        "outputId": "16987aa9-72d5-4ee6-b174-52cef77990b7"
      },
      "execution_count": 16,
      "outputs": [
        {
          "output_type": "stream",
          "name": "stdout",
          "text": [
            "8\n"
          ]
        }
      ]
    },
    {
      "cell_type": "markdown",
      "source": [
        "Nested For Loop"
      ],
      "metadata": {
        "id": "aY4oqC1zqn0A"
      }
    },
    {
      "cell_type": "code",
      "source": [
        "number_grid = [\n",
        "    [1, 2, 3],\n",
        "    [4, 5, 6],\n",
        "    [7, 8, 9],\n",
        "    [0]\n",
        "]\n",
        "\n",
        "for row in number_grid:\n",
        "  for col in row:\n",
        "    print(col)"
      ],
      "metadata": {
        "colab": {
          "base_uri": "https://localhost:8080/"
        },
        "id": "nO9O1RyOqhBx",
        "outputId": "a005fa60-72cf-4c7e-d067-8b1b689b41db"
      },
      "execution_count": 18,
      "outputs": [
        {
          "output_type": "stream",
          "name": "stdout",
          "text": [
            "1\n",
            "2\n",
            "3\n",
            "4\n",
            "5\n",
            "6\n",
            "7\n",
            "8\n",
            "9\n",
            "0\n"
          ]
        }
      ]
    },
    {
      "cell_type": "markdown",
      "source": [
        "# Building a Translator"
      ],
      "metadata": {
        "id": "Zh05d5QnrDm2"
      }
    },
    {
      "cell_type": "markdown",
      "source": [
        "Giraffe Language:\n",
        "\n",
        "English vowels are replaced with 'g'"
      ],
      "metadata": {
        "id": "3w9pR-zesTfq"
      }
    },
    {
      "cell_type": "code",
      "source": [
        "def translate(phrase):\n",
        "  translation = \"\"\n",
        "  for letter in phrase:\n",
        "    if letter in \"AEIOUaeiou\":\n",
        "      translation = translation + \"g\"\n",
        "    else:\n",
        "      translation = translation + letter\n",
        "  return translation\n",
        "\n",
        "print(translate(input(\"Enter a phrase: \")))"
      ],
      "metadata": {
        "colab": {
          "base_uri": "https://localhost:8080/"
        },
        "id": "0TUGEBEMrByF",
        "outputId": "22bbdb7c-0c34-4785-ec4a-ee3d64367d2a"
      },
      "execution_count": 19,
      "outputs": [
        {
          "output_type": "stream",
          "name": "stdout",
          "text": [
            "Enter a phrase: dog\n",
            "dgg\n"
          ]
        }
      ]
    },
    {
      "cell_type": "code",
      "source": [
        "def translate(phrase):\n",
        "  translation = \"\"\n",
        "  for letter in phrase:\n",
        "    if letter.lower() in \"aeiou\":\n",
        "      translation = translation + \"g\"\n",
        "    else:\n",
        "      translation = translation + letter\n",
        "  return translation\n",
        "\n",
        "print(translate(input(\"Enter a phrase: \")))"
      ],
      "metadata": {
        "id": "PHooMJQMtssp"
      },
      "execution_count": null,
      "outputs": []
    },
    {
      "cell_type": "code",
      "source": [
        "def translate(phrase):\n",
        "  translation = \"\"\n",
        "  for letter in phrase:\n",
        "    if letter.lower() in \"aeiou\":\n",
        "      if letter.isupper():\n",
        "        translation = translation + \"G\"\n",
        "      else:  \n",
        "        translation = translation + \"g\"\n",
        "    else:\n",
        "      translation = translation + letter\n",
        "  return translation\n",
        "\n",
        "print(translate(input(\"Enter a phrase: \")))"
      ],
      "metadata": {
        "colab": {
          "base_uri": "https://localhost:8080/"
        },
        "id": "HQ7g87q5shtd",
        "outputId": "10022a91-ea22-4f49-bc63-758aaf7f82c2"
      },
      "execution_count": 20,
      "outputs": [
        {
          "output_type": "stream",
          "name": "stdout",
          "text": [
            "Enter a phrase: On\n",
            "Gn\n"
          ]
        }
      ]
    },
    {
      "cell_type": "markdown",
      "source": [
        "# Comments"
      ],
      "metadata": {
        "id": "f9KukdTzs2i3"
      }
    },
    {
      "cell_type": "code",
      "source": [
        "print(\"Comments are fun\")"
      ],
      "metadata": {
        "colab": {
          "base_uri": "https://localhost:8080/"
        },
        "id": "n3KcMCYks4fN",
        "outputId": "6dcb2182-e462-44f5-9352-dc6b53e8f4c6"
      },
      "execution_count": 21,
      "outputs": [
        {
          "output_type": "stream",
          "name": "stdout",
          "text": [
            "Comments are fun\n"
          ]
        }
      ]
    },
    {
      "cell_type": "code",
      "source": [
        "'''\n",
        "dweufbwe\n",
        "efowef\n",
        "uuewefieuw\n",
        "'''\n",
        "# If you want to be a super python official then use '#' (even for multiple lines)\n",
        "# This prints out a string\n",
        "\n",
        "print(\"Comments are fun\")"
      ],
      "metadata": {
        "colab": {
          "base_uri": "https://localhost:8080/"
        },
        "id": "As5te1u0s9Uf",
        "outputId": "022d30dc-fb5a-4f9c-ecca-a29552179058"
      },
      "execution_count": 22,
      "outputs": [
        {
          "output_type": "stream",
          "name": "stdout",
          "text": [
            "Comments are fun\n"
          ]
        }
      ]
    },
    {
      "cell_type": "markdown",
      "source": [
        "# Try / Except"
      ],
      "metadata": {
        "id": "dW2B8WKHtqrJ"
      }
    },
    {
      "cell_type": "code",
      "source": [
        "number = int(input(\"Enter a number: \"))\n",
        "print(number)"
      ],
      "metadata": {
        "colab": {
          "base_uri": "https://localhost:8080/"
        },
        "id": "MDrPRuqyt2yE",
        "outputId": "f77a4ad1-4bd3-44f8-d9ec-20a777935e1b"
      },
      "execution_count": 23,
      "outputs": [
        {
          "output_type": "stream",
          "name": "stdout",
          "text": [
            "Enter a number: 4\n",
            "4\n"
          ]
        }
      ]
    },
    {
      "cell_type": "code",
      "source": [
        "number = int(input(\"Enter a number: \"))\n",
        "print(number)"
      ],
      "metadata": {
        "colab": {
          "base_uri": "https://localhost:8080/",
          "height": 200
        },
        "id": "ofXS8lPQuCSd",
        "outputId": "5fc75289-ab20-45f7-bf79-cb2f4036d218"
      },
      "execution_count": 24,
      "outputs": [
        {
          "name": "stdout",
          "output_type": "stream",
          "text": [
            "Enter a number: ewiufebw\n"
          ]
        },
        {
          "output_type": "error",
          "ename": "ValueError",
          "evalue": "ignored",
          "traceback": [
            "\u001b[0;31m---------------------------------------------------------------------------\u001b[0m",
            "\u001b[0;31mValueError\u001b[0m                                Traceback (most recent call last)",
            "\u001b[0;32m<ipython-input-24-714ac031a43d>\u001b[0m in \u001b[0;36m<module>\u001b[0;34m\u001b[0m\n\u001b[0;32m----> 1\u001b[0;31m \u001b[0mnumber\u001b[0m \u001b[0;34m=\u001b[0m \u001b[0mint\u001b[0m\u001b[0;34m(\u001b[0m\u001b[0minput\u001b[0m\u001b[0;34m(\u001b[0m\u001b[0;34m\"Enter a number: \"\u001b[0m\u001b[0;34m)\u001b[0m\u001b[0;34m)\u001b[0m\u001b[0;34m\u001b[0m\u001b[0;34m\u001b[0m\u001b[0m\n\u001b[0m\u001b[1;32m      2\u001b[0m \u001b[0mprint\u001b[0m\u001b[0;34m(\u001b[0m\u001b[0mnumber\u001b[0m\u001b[0;34m)\u001b[0m\u001b[0;34m\u001b[0m\u001b[0;34m\u001b[0m\u001b[0m\n",
            "\u001b[0;31mValueError\u001b[0m: invalid literal for int() with base 10: 'ewiufebw'"
          ]
        }
      ]
    },
    {
      "cell_type": "code",
      "source": [
        "try:\n",
        "  number = int(input(\"Enter a number: \"))\n",
        "  print(number)\n",
        "except:\n",
        "  print(\"Invalid Input\")"
      ],
      "metadata": {
        "colab": {
          "base_uri": "https://localhost:8080/"
        },
        "id": "KHmvGYKKuIYh",
        "outputId": "d2d7a13a-ea4a-4d20-b940-78c429e7159a"
      },
      "execution_count": 25,
      "outputs": [
        {
          "output_type": "stream",
          "name": "stdout",
          "text": [
            "Enter a number: deow\n",
            "Invalid Input\n"
          ]
        }
      ]
    },
    {
      "cell_type": "code",
      "source": [
        "value = 10/0\n",
        "\n",
        "try:\n",
        "  number = int(input(\"Enter a number: \"))\n",
        "  print(number)\n",
        "except:\n",
        "  print(\"Invalid Input\")"
      ],
      "metadata": {
        "colab": {
          "base_uri": "https://localhost:8080/",
          "height": 235
        },
        "id": "M_XEIxCrumK8",
        "outputId": "3aee6089-3640-42bb-d3ff-bd4d86e3049b"
      },
      "execution_count": 26,
      "outputs": [
        {
          "output_type": "error",
          "ename": "ZeroDivisionError",
          "evalue": "ignored",
          "traceback": [
            "\u001b[0;31m---------------------------------------------------------------------------\u001b[0m",
            "\u001b[0;31mZeroDivisionError\u001b[0m                         Traceback (most recent call last)",
            "\u001b[0;32m<ipython-input-26-58cb5387413c>\u001b[0m in \u001b[0;36m<module>\u001b[0;34m\u001b[0m\n\u001b[0;32m----> 1\u001b[0;31m \u001b[0mvalue\u001b[0m \u001b[0;34m=\u001b[0m \u001b[0;36m10\u001b[0m\u001b[0;34m/\u001b[0m\u001b[0;36m0\u001b[0m\u001b[0;34m\u001b[0m\u001b[0;34m\u001b[0m\u001b[0m\n\u001b[0m\u001b[1;32m      2\u001b[0m \u001b[0;34m\u001b[0m\u001b[0m\n\u001b[1;32m      3\u001b[0m \u001b[0;32mtry\u001b[0m\u001b[0;34m:\u001b[0m\u001b[0;34m\u001b[0m\u001b[0;34m\u001b[0m\u001b[0m\n\u001b[1;32m      4\u001b[0m   \u001b[0mnumber\u001b[0m \u001b[0;34m=\u001b[0m \u001b[0mint\u001b[0m\u001b[0;34m(\u001b[0m\u001b[0minput\u001b[0m\u001b[0;34m(\u001b[0m\u001b[0;34m\"Enter a number: \"\u001b[0m\u001b[0;34m)\u001b[0m\u001b[0;34m)\u001b[0m\u001b[0;34m\u001b[0m\u001b[0;34m\u001b[0m\u001b[0m\n\u001b[1;32m      5\u001b[0m   \u001b[0mprint\u001b[0m\u001b[0;34m(\u001b[0m\u001b[0mnumber\u001b[0m\u001b[0;34m)\u001b[0m\u001b[0;34m\u001b[0m\u001b[0;34m\u001b[0m\u001b[0m\n",
            "\u001b[0;31mZeroDivisionError\u001b[0m: division by zero"
          ]
        }
      ]
    },
    {
      "cell_type": "code",
      "source": [
        "try:\n",
        "  value = 10/0\n",
        "  number = int(input(\"Enter a number: \"))\n",
        "  print(number)\n",
        "except:\n",
        "  print(\"Invalid Input\")"
      ],
      "metadata": {
        "colab": {
          "base_uri": "https://localhost:8080/"
        },
        "id": "fq72rd_Su5Da",
        "outputId": "1a0a6e1f-7d30-45b5-c5d8-4fbb6ef79c36"
      },
      "execution_count": 27,
      "outputs": [
        {
          "output_type": "stream",
          "name": "stdout",
          "text": [
            "Invalid Input\n"
          ]
        }
      ]
    },
    {
      "cell_type": "code",
      "source": [
        "try:\n",
        "  value = 10/0\n",
        "  number = int(input(\"Enter a number: \"))\n",
        "  print(number)\n",
        "except ZeroDivisionError:\n",
        "  print(\"Divided by zero\")\n",
        "except ValueError:\n",
        "  print(\"invalid input\")"
      ],
      "metadata": {
        "colab": {
          "base_uri": "https://localhost:8080/"
        },
        "id": "XVqhG2NrvCI_",
        "outputId": "dbb4a40d-0ddf-49d0-ad28-8fda83ef9755"
      },
      "execution_count": 28,
      "outputs": [
        {
          "output_type": "stream",
          "name": "stdout",
          "text": [
            "Divided by zero\n"
          ]
        }
      ]
    },
    {
      "cell_type": "code",
      "source": [
        "try:\n",
        "  \n",
        "  number = int(input(\"Enter a number: \"))\n",
        "  print(number)\n",
        "except ZeroDivisionError:\n",
        "  print(\"Divided by zero\")\n",
        "except ValueError:\n",
        "  print(\"invalid input\")"
      ],
      "metadata": {
        "colab": {
          "base_uri": "https://localhost:8080/"
        },
        "id": "Kaw9PRcmvVwO",
        "outputId": "9ef5d6ae-432a-4273-a03e-934acc6ec643"
      },
      "execution_count": 29,
      "outputs": [
        {
          "output_type": "stream",
          "name": "stdout",
          "text": [
            "Enter a number: eofn\n",
            "invalid input\n"
          ]
        }
      ]
    },
    {
      "cell_type": "code",
      "source": [
        "try:\n",
        "  answer = 10/0\n",
        "  number = int(input(\"Enter a number: \"))\n",
        "  print(number)\n",
        "except ZeroDivisionError as err:\n",
        "  print(err)\n",
        "except ValueError:\n",
        "  print(\"invalid input\")"
      ],
      "metadata": {
        "colab": {
          "base_uri": "https://localhost:8080/"
        },
        "id": "pQV03-havaP0",
        "outputId": "131b9f5b-3a95-46e5-b5f4-2d2d1ddb2247"
      },
      "execution_count": 30,
      "outputs": [
        {
          "output_type": "stream",
          "name": "stdout",
          "text": [
            "division by zero\n"
          ]
        }
      ]
    },
    {
      "cell_type": "markdown",
      "source": [
        "# Reading Files"
      ],
      "metadata": {
        "id": "jhmNaUNovqQv"
      }
    },
    {
      "cell_type": "markdown",
      "source": [
        "open(\"E:\\Yujeeb Abbas Kashani\\Python\\Mike_Dane_freecodecamp\\employees.txt\", \"r\")      # read mode\n",
        "\n",
        "open(\"E:\\Yujeeb Abbas Kashani\\Python\\Mike_Dane_freecodecamp\\employees.txt\", \"w\")      # write mode\n",
        "\n",
        "open(\"E:\\Yujeeb Abbas Kashani\\Python\\Mike_Dane_freecodecamp\\employees.txt\", \"a\")      # append - add new info at the end of file\n",
        "\n",
        "open(\"E:\\Yujeeb Abbas Kashani\\Python\\Mike_Dane_freecodecamp\\employees.txt\", \"r+\")     # read and write\n",
        " \n"
      ],
      "metadata": {
        "id": "EHu68cOXyED8"
      }
    },
    {
      "cell_type": "code",
      "source": [
        "employee_file = open(\"E:\\Yujeeb Abbas Kashani\\Python\\Mike_Dane_freecodecamp\\employees.txt\", \"r\")\n",
        "\n",
        "# check if the file is readable  \n",
        "print(employee_file.readable())\n",
        "\n",
        "employee_file.close()\n",
        "\n",
        "# Output - True"
      ],
      "metadata": {
        "id": "iW5uITOsyFWP"
      },
      "execution_count": null,
      "outputs": []
    },
    {
      "cell_type": "code",
      "source": [
        "employee_file = open(\"E:\\Yujeeb Abbas Kashani\\Python\\Mike_Dane_freecodecamp\\employees.txt\", \"w\")\n",
        "\n",
        "# checks if the file is readable  \n",
        "print(employee_file.readable())\n",
        "\n",
        "employee_file.close()\n",
        "\n",
        "# Output - False"
      ],
      "metadata": {
        "id": "3vSNy3un1KlZ"
      },
      "execution_count": null,
      "outputs": []
    },
    {
      "cell_type": "code",
      "source": [
        "employee_file = open(\"E:\\Yujeeb Abbas Kashani\\Python\\Mike_Dane_freecodecamp\\employees.txt\", \"r\")\n",
        "  \n",
        "print(employee_file.read())\n",
        "\n",
        "employee_file.close()\n",
        "\n",
        "'''\n",
        "Output:\n",
        "Jim - Salesman\n",
        "Dwight - Salesman\n",
        "Pam - Receptionist\n",
        "Michael - Manager\n",
        "Oscar - Accountant\n",
        "'''"
      ],
      "metadata": {
        "id": "XbEUHc0t1Qzs"
      },
      "execution_count": null,
      "outputs": []
    },
    {
      "cell_type": "code",
      "source": [
        "employee_file = open(\"E:\\Yujeeb Abbas Kashani\\Python\\Mike_Dane_freecodecamp\\employees.txt\", \"r\")\n",
        " \n",
        "print(employee_file.readline())\n",
        "\n",
        "employee_file.close()\n",
        "\n",
        "'''\n",
        "Output:\n",
        "Jim - Salesman\n",
        "'''"
      ],
      "metadata": {
        "id": "wwmzQwTx2XkY"
      },
      "execution_count": null,
      "outputs": []
    },
    {
      "cell_type": "code",
      "source": [
        "employee_file = open(\"E:\\Yujeeb Abbas Kashani\\Python\\Mike_Dane_freecodecamp\\employees.txt\", \"r\")\n",
        "\n",
        "print(employee_file.readline())\n",
        "print(employee_file.readline())\n",
        "\n",
        "employee_file.close()\n",
        "\n",
        "'''\n",
        "Output:\n",
        "Jim - Salesman\n",
        "Dwight - Salesman\n",
        "'''"
      ],
      "metadata": {
        "id": "ycpAEi7G2fAG"
      },
      "execution_count": null,
      "outputs": []
    },
    {
      "cell_type": "code",
      "source": [
        "employee_file = open(\"E:\\Yujeeb Abbas Kashani\\Python\\Mike_Dane_freecodecamp\\employees.txt\", \"r\")\n",
        "\n",
        "print(employee_file.readline())\n",
        "print(employee_file.readline())\n",
        "print(employee_file.readline())\n",
        "employee_file.close()\n",
        "\n",
        "'''\n",
        "Output:\n",
        "Jim - Salesman\n",
        "Dwight - Salesman\n",
        "Pam - Receptionist\n",
        "'''"
      ],
      "metadata": {
        "id": "gaGn5LOR2qVx"
      },
      "execution_count": null,
      "outputs": []
    },
    {
      "cell_type": "code",
      "source": [
        "employee_file = open(\"E:\\Yujeeb Abbas Kashani\\Python\\Mike_Dane_freecodecamp\\employees.txt\", \"r\")\n",
        "\n",
        "print(employee_file.readlines()) # Puts the lines in Lists\n",
        "\n",
        "employee_file.close()\n",
        "\n",
        "'''\n",
        "Output:\n",
        "['Jim - Salesman\\n', 'Dwight - Salesman\\n', 'Pam - Receptionist\\n', 'Michael - Manager\\n', 'Oscar - Accountant\\n']\n",
        "'''"
      ],
      "metadata": {
        "id": "yiuJmikL2uCr"
      },
      "execution_count": null,
      "outputs": []
    },
    {
      "cell_type": "code",
      "source": [
        "employee_file = open(\"E:\\Yujeeb Abbas Kashani\\Python\\Mike_Dane_freecodecamp\\employees.txt\", \"r\")\n",
        "\n",
        "print(employee_file.readlines()[1])\n",
        "\n",
        "employee_file.close()\n",
        "\n",
        "'''\n",
        "Output:\n",
        "Dwight - Salesman\n",
        "'''"
      ],
      "metadata": {
        "id": "-1iDmNQv3M58"
      },
      "execution_count": null,
      "outputs": []
    },
    {
      "cell_type": "code",
      "source": [
        "employee_file = open(\"E:\\Yujeeb Abbas Kashani\\Python\\Mike_Dane_freecodecamp\\employees.txt\", \"r\")\n",
        "for employee in employee_file.readlines():\n",
        "  print(employee)\n",
        "employee_file.close()\n",
        "\n",
        "'''\n",
        "Output:\n",
        "Jim - Salesman\n",
        "\n",
        "Dwight - Salesman\n",
        "\n",
        "Pam - Receptionist\n",
        "\n",
        "Michael - Manager\n",
        "\n",
        "Oscar - Accountant\n",
        "\n",
        "'''"
      ],
      "metadata": {
        "id": "eaZNrymw3wA3"
      },
      "execution_count": null,
      "outputs": []
    },
    {
      "cell_type": "markdown",
      "source": [
        "# Writing to Files"
      ],
      "metadata": {
        "id": "sBkyVjPk4CI1"
      }
    },
    {
      "cell_type": "code",
      "source": [
        "employee_file = open(\"E:\\Yujeeb Abbas Kashani\\Python\\Mike_Dane_freecodecamp\\employees.txt\", \"r\")\n",
        "print(employee_file.read())\n",
        "employee_file.close()"
      ],
      "metadata": {
        "id": "5Qr2drU-4FUm"
      },
      "execution_count": null,
      "outputs": []
    },
    {
      "cell_type": "code",
      "source": [
        "employee_file = open(\"E:\\Yujeeb Abbas Kashani\\Python\\Mike_Dane_freecodecamp\\employees.txt\", \"a\")\n",
        "\n",
        "employee_file.write(\"Toby - Human Resources\")\n",
        "\n",
        "employee_file.close()"
      ],
      "metadata": {
        "id": "XWB_B9Sj4aqb"
      },
      "execution_count": null,
      "outputs": []
    },
    {
      "cell_type": "code",
      "source": [
        "employee_file = open(\"E:\\Yujeeb Abbas Kashani\\Python\\Mike_Dane_freecodecamp\\employees.txt\", \"a\")\n",
        "\n",
        "employee_file.write(\"\\nKelly - Customer Service\") # appends this line on a new line\n",
        "\n",
        "employee_file.close()"
      ],
      "metadata": {
        "id": "JQ-hi1uI4vkJ"
      },
      "execution_count": null,
      "outputs": []
    },
    {
      "cell_type": "code",
      "source": [
        "employee_file = open(\"E:\\Yujeeb Abbas Kashani\\Python\\Mike_Dane_freecodecamp\\employees.txt\", \"w\")\n",
        "\n",
        "employee_file.write(\"\\nKelly - Customer Service\") # overrides the file because we used \"w\"\n",
        "employee_file.close()"
      ],
      "metadata": {
        "id": "MFvSaj8q5HzU"
      },
      "execution_count": null,
      "outputs": []
    },
    {
      "cell_type": "code",
      "source": [
        "employee_file = open(employees1.txt) # creates a new file\n",
        "\n",
        "employee_file.write(\"\\nKelly - Customer Service\") # overrides the file because we used \"w\"\n",
        "employee_file.close()"
      ],
      "metadata": {
        "id": "6THoXWN75TlM"
      },
      "execution_count": null,
      "outputs": []
    },
    {
      "cell_type": "code",
      "source": [
        "employee_file = open(\"index.html\", \"w\")\n",
        "\n",
        "employee_file.write(\"<p>This is HTML</p>\")\n",
        "\n",
        "employee_file.close()"
      ],
      "metadata": {
        "id": "QutsIXxR5eky"
      },
      "execution_count": null,
      "outputs": []
    },
    {
      "cell_type": "markdown",
      "source": [
        "# Modules & Pip"
      ],
      "metadata": {
        "id": "i7ElIR0z6Q22"
      }
    },
    {
      "cell_type": "code",
      "source": [
        "# useful_tools.py\n",
        "\n"
      ],
      "metadata": {
        "id": "iPwTjnmC6VPu"
      },
      "execution_count": null,
      "outputs": []
    },
    {
      "cell_type": "code",
      "source": [
        "import useful_tools\n",
        "\n",
        "print(useful_tools.roll_dice(10))  # Output: 4\n",
        "\n"
      ],
      "metadata": {
        "id": "tfkTM-kW6066"
      },
      "execution_count": null,
      "outputs": []
    },
    {
      "cell_type": "markdown",
      "source": [
        "# Classes & Objects"
      ],
      "metadata": {
        "id": "W99fq87X-cq2"
      }
    },
    {
      "cell_type": "code",
      "source": [
        "# Student.py\n",
        "\n",
        "class Student:\n",
        "  \n",
        "  def __init__(self, name, major, gpa, is_on_probation):\n",
        "    self.name = name\n",
        "    self.major = major\n",
        "    self.gpa = gpa\n",
        "    self.is_on_probation = is_on_probation"
      ],
      "metadata": {
        "id": "2xMq4Q3Y-ibr"
      },
      "execution_count": null,
      "outputs": []
    },
    {
      "cell_type": "code",
      "source": [
        "# app.py\n",
        "\n",
        "from Student import Student\n",
        "\n",
        "student1 = Student(\"Jim\", \"Business\", 3.1, False)\n",
        "student2 = Student(\"Pam\", \"Art\", 2.5, True)\n",
        "print(student1.name)\n",
        "print(student1.gpa)\n",
        "print(student2.gpa)\n"
      ],
      "metadata": {
        "id": "c2n22ty6APn-"
      },
      "execution_count": null,
      "outputs": []
    },
    {
      "cell_type": "markdown",
      "source": [
        "# Building a Multiple Choice Quiz"
      ],
      "metadata": {
        "id": "oJTBZ2fZCXJM"
      }
    },
    {
      "cell_type": "code",
      "source": [],
      "metadata": {
        "id": "gyyp9feQCWbS"
      },
      "execution_count": null,
      "outputs": []
    },
    {
      "cell_type": "markdown",
      "source": [
        "# Object Functions\n"
      ],
      "metadata": {
        "id": "R1yzfPAXGEDw"
      }
    },
    {
      "cell_type": "code",
      "source": [],
      "metadata": {
        "id": "MaOSL_9jGGEX"
      },
      "execution_count": null,
      "outputs": []
    },
    {
      "cell_type": "markdown",
      "source": [
        "# Inheritance"
      ],
      "metadata": {
        "id": "7oRknQKGIOjr"
      }
    },
    {
      "cell_type": "code",
      "source": [],
      "metadata": {
        "id": "3HWuoxxQIRSS"
      },
      "execution_count": null,
      "outputs": []
    },
    {
      "cell_type": "markdown",
      "source": [
        "# Python Interpreter"
      ],
      "metadata": {
        "id": "nsPHbclvOeXE"
      }
    }
  ]
}